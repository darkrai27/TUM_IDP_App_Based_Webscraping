{
 "cells": [
  {
   "cell_type": "code",
   "execution_count": 1,
   "metadata": {},
   "outputs": [
    {
     "name": "stdout",
     "output_type": "stream",
     "text": [
      "62663395411%3A7JKmkEnt6LWSNL%3A24%3AAYco9NbUzFD9HVMwy6TgamMQl9s8fBHsWPU72BUW7Q NAcP-GdvtHiRkG5gXaq6QHV6J7KNrIIGWch9S6Q5K5TtcKGF0YFttuQ:17865553615041151:1698916728\n"
     ]
    }
   ],
   "source": [
    "from users import queryuser, get_posts, get_follows_info, get_followers, get_following, get_replys, crawl_all\n",
    "from posts import get_post\n",
    "\n",
    "import os\n",
    "from dotenv import load_dotenv\n",
    "\n",
    "load_dotenv('.env')\n",
    "DTSG = os.getenv(\"DTSG\")\n",
    "SESSION = os.getenv(\"SESSION\")\n",
    "\n",
    "print(SESSION, DTSG)"
   ]
  },
  {
   "cell_type": "code",
   "execution_count": 2,
   "metadata": {},
   "outputs": [],
   "source": [
    "from postSchemas import JsonPosts\n",
    "from utils import extract_captions, extract_medias\n",
    "import json"
   ]
  },
  {
   "cell_type": "code",
   "execution_count": null,
   "metadata": {},
   "outputs": [],
   "source": [
    "get_posts(\"hideo_kojima\")"
   ]
  },
  {
   "cell_type": "code",
   "execution_count": null,
   "metadata": {},
   "outputs": [],
   "source": [
    "get_replys(\"xboxgamepass\")"
   ]
  },
  {
   "cell_type": "code",
   "execution_count": null,
   "metadata": {},
   "outputs": [],
   "source": [
    "get_follows_info(\"playstationes\")"
   ]
  },
  {
   "cell_type": "code",
   "execution_count": null,
   "metadata": {},
   "outputs": [],
   "source": [
    "get_followers(\"xboxgamepass\")"
   ]
  },
  {
   "cell_type": "code",
   "execution_count": 4,
   "metadata": {},
   "outputs": [
    {
     "data": {
      "text/plain": [
       "{'data': {'following': {'edges': [{'node': {'pk': '45303578550',\n",
       "      'full_name': 'Diablo',\n",
       "      'profile_pic_url': 'https://scontent.cdninstagram.com/v/t51.2885-19/357791455_820593092548706_2357516973457212461_n.jpg?stp=dst-jpg_s150x150&_nc_ht=scontent.cdninstagram.com&_nc_cat=102&_nc_ohc=qz5ynQjvwGQAX-X3aDb&edm=APs17CUBAAAA&ccb=7-5&oh=00_AfD5Td5ch35yHsN1-caWW6HLOMnUD_6zGu_78PZ1dp1-4A&oe=65481CEF&_nc_sid=10d13b',\n",
       "      'username': 'playdiablo',\n",
       "      'has_onboarded_to_text_post_app': True,\n",
       "      'is_verified': True,\n",
       "      'text_post_app_is_private': None,\n",
       "      'friendship_status': {'following': False,\n",
       "       'outgoing_request': False,\n",
       "       'followed_by': None,\n",
       "       'text_post_app_pre_following': False},\n",
       "      'follower_count': 34574,\n",
       "      'profile_context_facepile_users': [],\n",
       "      'id': None,\n",
       "      '__typename': 'XDTUserDict'},\n",
       "     'cursor': ''},\n",
       "    {'node': {'pk': '4442789012',\n",
       "      'full_name': 'Crystal Dynamics',\n",
       "      'profile_pic_url': 'https://scontent.cdninstagram.com/v/t51.2885-19/358069143_151421411270141_2304011496041277843_n.jpg?stp=dst-jpg_s150x150&_nc_ht=scontent.cdninstagram.com&_nc_cat=105&_nc_ohc=sfJelfMDO7cAX8D4G0F&edm=APs17CUBAAAA&ccb=7-5&oh=00_AfD16froWUCzElnDUlbCQeXNiY42vXZkNh4KwAghyeZh5A&oe=65490951&_nc_sid=10d13b',\n",
       "      'username': 'crystaldynamics',\n",
       "      'has_onboarded_to_text_post_app': True,\n",
       "      'is_verified': True,\n",
       "      'text_post_app_is_private': None,\n",
       "      'friendship_status': {'following': False,\n",
       "       'outgoing_request': False,\n",
       "       'followed_by': None,\n",
       "       'text_post_app_pre_following': False},\n",
       "      'follower_count': 5885,\n",
       "      'profile_context_facepile_users': [],\n",
       "      'id': None,\n",
       "      '__typename': 'XDTUserDict'},\n",
       "     'cursor': ''},\n",
       "    {'node': {'pk': '55564868882',\n",
       "      'full_name': 'MARVEL SNAP',\n",
       "      'profile_pic_url': 'https://scontent.cdninstagram.com/v/t51.2885-19/357995434_263484236294182_1588728756677024275_n.jpg?stp=dst-jpg_s150x150&_nc_ht=scontent.cdninstagram.com&_nc_cat=110&_nc_ohc=T7fx1a4vtp4AX_bnVO8&edm=APs17CUBAAAA&ccb=7-5&oh=00_AfCl2E2mIbfjPx4lxpIaiBH94Vqb5GSH9SKqebfC7FuyLQ&oe=654825A7&_nc_sid=10d13b',\n",
       "      'username': 'playmarvelsnap',\n",
       "      'has_onboarded_to_text_post_app': True,\n",
       "      'is_verified': True,\n",
       "      'text_post_app_is_private': None,\n",
       "      'friendship_status': {'following': False,\n",
       "       'outgoing_request': False,\n",
       "       'followed_by': None,\n",
       "       'text_post_app_pre_following': False},\n",
       "      'follower_count': 17854,\n",
       "      'profile_context_facepile_users': [],\n",
       "      'id': None,\n",
       "      '__typename': 'XDTUserDict'},\n",
       "     'cursor': ''},\n",
       "    {'node': {'pk': '20703145',\n",
       "      'full_name': \"Wendy's 🍔\",\n",
       "      'profile_pic_url': 'https://scontent.cdninstagram.com/v/t51.2885-19/358026861_141392842306420_559564373199925837_n.jpg?stp=dst-jpg_s150x150&_nc_ht=scontent.cdninstagram.com&_nc_cat=104&_nc_ohc=YXbcURI1V3QAX-HkoeA&edm=APs17CUBAAAA&ccb=7-5&oh=00_AfA4FDbOsUepWDRU2O6PEDtzJxIDLRMkIxUzf0oxJEsVIg&oe=65489083&_nc_sid=10d13b',\n",
       "      'username': 'wendys',\n",
       "      'has_onboarded_to_text_post_app': True,\n",
       "      'is_verified': True,\n",
       "      'text_post_app_is_private': None,\n",
       "      'friendship_status': {'following': False,\n",
       "       'outgoing_request': False,\n",
       "       'followed_by': None,\n",
       "       'text_post_app_pre_following': False},\n",
       "      'follower_count': 299885,\n",
       "      'profile_context_facepile_users': [],\n",
       "      'id': None,\n",
       "      '__typename': 'XDTUserDict'},\n",
       "     'cursor': ''},\n",
       "    {'node': {'pk': '7161511041',\n",
       "      'full_name': 'Xbox Game Pass',\n",
       "      'profile_pic_url': 'https://scontent.cdninstagram.com/v/t51.2885-19/357815357_1423294991779897_2908067542864406125_n.jpg?stp=dst-jpg_s150x150&_nc_ht=scontent.cdninstagram.com&_nc_cat=101&_nc_ohc=ZJBgogztIJ8AX9IO66N&edm=APs17CUBAAAA&ccb=7-5&oh=00_AfCaiuE7BAetqKMW-PsjODvhn1ngeKfxB2zOuU4kEhw3rA&oe=65480DA6&_nc_sid=10d13b',\n",
       "      'username': 'xboxgamepass',\n",
       "      'has_onboarded_to_text_post_app': True,\n",
       "      'is_verified': True,\n",
       "      'text_post_app_is_private': None,\n",
       "      'friendship_status': {'following': True,\n",
       "       'outgoing_request': False,\n",
       "       'followed_by': None,\n",
       "       'text_post_app_pre_following': False},\n",
       "      'follower_count': 167736,\n",
       "      'profile_context_facepile_users': [],\n",
       "      'id': None,\n",
       "      '__typename': 'XDTUserDict'},\n",
       "     'cursor': ''},\n",
       "    {'node': {'pk': '59128606258',\n",
       "      'full_name': 'Threads',\n",
       "      'profile_pic_url': 'https://scontent.cdninstagram.com/v/t51.2885-19/357635170_778931314240421_6964405388884023947_n.jpg?stp=dst-jpg_s150x150&_nc_ht=scontent.cdninstagram.com&_nc_cat=1&_nc_ohc=68j_ZqhWgbsAX_rODcw&edm=APs17CUBAAAA&ccb=7-5&oh=00_AfCd5NsEhFFklygXmv0xiTZKZTmm-KPFgxRXvpjDwYvtdw&oe=654956D9&_nc_sid=10d13b',\n",
       "      'username': 'threads',\n",
       "      'has_onboarded_to_text_post_app': True,\n",
       "      'is_verified': True,\n",
       "      'text_post_app_is_private': None,\n",
       "      'friendship_status': {'following': False,\n",
       "       'outgoing_request': False,\n",
       "       'followed_by': None,\n",
       "       'text_post_app_pre_following': False},\n",
       "      'follower_count': 1637650,\n",
       "      'profile_context_facepile_users': [],\n",
       "      'id': None,\n",
       "      '__typename': 'XDTUserDict'},\n",
       "     'cursor': ''},\n",
       "    {'node': {'pk': '5173530',\n",
       "      'full_name': \"Arby's\",\n",
       "      'profile_pic_url': 'https://scontent.cdninstagram.com/v/t51.2885-19/357791458_316362697392104_9094034241939569518_n.jpg?stp=dst-jpg_s150x150&_nc_ht=scontent.cdninstagram.com&_nc_cat=108&_nc_ohc=BYMxeOZTASIAX-SXHoe&edm=APs17CUBAAAA&ccb=7-5&oh=00_AfAqYRH4hJtBmd6T04gvlNHr3UOf9rjHiggszVpaGSl4Xg&oe=65482CBD&_nc_sid=10d13b',\n",
       "      'username': 'arbys',\n",
       "      'has_onboarded_to_text_post_app': True,\n",
       "      'is_verified': True,\n",
       "      'text_post_app_is_private': None,\n",
       "      'friendship_status': {'following': False,\n",
       "       'outgoing_request': False,\n",
       "       'followed_by': None,\n",
       "       'text_post_app_pre_following': False},\n",
       "      'follower_count': 41588,\n",
       "      'profile_context_facepile_users': [],\n",
       "      'id': None,\n",
       "      '__typename': 'XDTUserDict'},\n",
       "     'cursor': ''}],\n",
       "   'page_info': {'end_cursor': None,\n",
       "    'has_next_page': False,\n",
       "    'start_cursor': None,\n",
       "    'has_previous_page': False}}},\n",
       " 'extensions': {'is_final': True}}"
      ]
     },
     "execution_count": 4,
     "metadata": {},
     "output_type": "execute_result"
    }
   ],
   "source": [
    "get_following(\"xbox\")"
   ]
  },
  {
   "cell_type": "code",
   "execution_count": null,
   "metadata": {},
   "outputs": [],
   "source": [
    "medias = []\n",
    "for id in [3215036991376402961, 3217004398732036104, 3164378879532682279]:\n",
    "  post = get_post(id, DTSG, SESSION) #\n",
    "  medias.append(extract_medias(post))\n",
    "\n",
    "medias"
   ]
  },
  {
   "cell_type": "code",
   "execution_count": null,
   "metadata": {},
   "outputs": [],
   "source": [
    "data = crawl_all(\"playstationes\", \"repost\")\n",
    "\n",
    "json_string = json.dumps(data, ensure_ascii=False)\n",
    "\n",
    "\n",
    "data = JsonPosts.model_validate_json(json_string)\n",
    "extract_captions(data.data.mediaData.edges)"
   ]
  },
  {
   "cell_type": "code",
   "execution_count": null,
   "metadata": {},
   "outputs": [],
   "source": []
  }
 ],
 "metadata": {
  "kernelspec": {
   "display_name": "Python 3",
   "language": "python",
   "name": "python3"
  },
  "language_info": {
   "codemirror_mode": {
    "name": "ipython",
    "version": 3
   },
   "file_extension": ".py",
   "mimetype": "text/x-python",
   "name": "python",
   "nbconvert_exporter": "python",
   "pygments_lexer": "ipython3",
   "version": "3.11.3"
  },
  "orig_nbformat": 4
 },
 "nbformat": 4,
 "nbformat_minor": 2
}
