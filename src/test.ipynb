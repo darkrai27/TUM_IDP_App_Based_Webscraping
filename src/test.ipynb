{
 "cells": [
  {
   "cell_type": "code",
   "execution_count": 1,
   "metadata": {},
   "outputs": [],
   "source": [
    "from tum_idp_appscraping.queryuser import queryuser"
   ]
  },
  {
   "cell_type": "code",
   "execution_count": 2,
   "metadata": {},
   "outputs": [
    {
     "name": "stdout",
     "output_type": "stream",
     "text": [
      "<Response [200]>\n"
     ]
    },
    {
     "data": {
      "text/plain": [
       "'{\"data\":{\"xdt_user_by_username\":{\"username\":\"jeffnippard\",\"pk\":\"321154855\",\"hd_profile_pic_versions\":[{\"height\":320,\"url\":\"https://scontent.cdninstagram.com/v/t51.2885-19/357779946_228393483358268_6556474955582402286_n.jpg?stp=dst-jpg_s320x320&_nc_ht=scontent.cdninstagram.com&_nc_cat=108&_nc_ohc=cEZLGIuJP-4AX-ZFWtG&edm=APs17CUBAAAA&ccb=7-5&oh=00_AfC2o4TNci22ggqJja7XFw_Ciie4JdRqau1NEOMPzESYyg&oe=65201908&_nc_sid=10d13b\",\"width\":320},{\"height\":640,\"url\":\"https://scontent.cdninstagram.com/v/t51.2885-19/357779946_228393483358268_6556474955582402286_n.jpg?stp=dst-jpg_s640x640&_nc_ht=scontent.cdninstagram.com&_nc_cat=108&_nc_ohc=cEZLGIuJP-4AX-ZFWtG&edm=APs17CUBAAAA&ccb=7-5&oh=00_AfAK3lo_tjKH9LpTeKOpGhVXVS9gyfslumaB5A7RLLLi6Q&oe=65201908&_nc_sid=10d13b\",\"width\":640}],\"profile_pic_url\":\"https://scontent.cdninstagram.com/v/t51.2885-19/357779946_228393483358268_6556474955582402286_n.jpg?stp=dst-jpg_s150x150&_nc_ht=scontent.cdninstagram.com&_nc_cat=108&_nc_ohc=cEZLGIuJP-4AX-ZFWtG&edm=APs17CUBAAAA&ccb=7-5&oh=00_AfBSdGEuuOOkSDwyyI4udGsyTyn79iNJiAwbxeQN7z6qng&oe=65201908&_nc_sid=10d13b\",\"biography\":\"🇨🇦 Science-Based Bodybuilding\\\\n▫️ 3M on YouTube\\\\n▫️ Training & diet plans 💪🏼⤵️\",\"biography_with_entities\":{\"entities\":[],\"raw_text\":\"🇨🇦 Science-Based Bodybuilding\\\\n▫️ 3M on YouTube\\\\n▫️ Training & diet plans 💪🏼⤵️\"},\"follower_count\":95314,\"profile_context_facepile_users\":null,\"text_post_app_is_private\":false,\"friendship_status\":null,\"full_name\":\"Jeff Nippard\",\"is_verified\":true,\"id\":\"321154855\"}},\"extensions\":{\"is_final\":true}}'"
      ]
     },
     "execution_count": 2,
     "metadata": {},
     "output_type": "execute_result"
    }
   ],
   "source": [
    "queryuser(\"jeffnippard\")"
   ]
  },
  {
   "cell_type": "code",
   "execution_count": 3,
   "metadata": {},
   "outputs": [
    {
     "name": "stdout",
     "output_type": "stream",
     "text": [
      "{'variables': '{\"userID\": \"321154855\"}', 'doc_id': '6298858840243790'}\n"
     ]
    },
    {
     "data": {
      "text/plain": [
       "'{\"data\":{\"userData\":{\"user\":{\"pk\":\"321154855\",\"username\":\"jeffnippard\",\"hd_profile_pic_versions\":[{\"height\":320,\"url\":\"https://scontent.cdninstagram.com/v/t51.2885-19/357779946_228393483358268_6556474955582402286_n.jpg?stp=dst-jpg_s320x320&_nc_ht=scontent.cdninstagram.com&_nc_cat=108&_nc_ohc=cEZLGIuJP-4AX95HFfj&edm=APs17CUBAAAA&ccb=7-5&oh=00_AfBS2Mmk961-qqAerEimghdNZxZ85jX6a8_XYBNfNg8uHg&oe=65201908&_nc_sid=10d13b\",\"width\":320},{\"height\":640,\"url\":\"https://scontent.cdninstagram.com/v/t51.2885-19/357779946_228393483358268_6556474955582402286_n.jpg?stp=dst-jpg_s640x640&_nc_ht=scontent.cdninstagram.com&_nc_cat=108&_nc_ohc=cEZLGIuJP-4AX95HFfj&edm=APs17CUBAAAA&ccb=7-5&oh=00_AfCjEm0HyOMBCCsz0zAWST99bAu9JkAxfss6LkkZ-xsp6w&oe=65201908&_nc_sid=10d13b\",\"width\":640}],\"profile_pic_url\":\"https://scontent.cdninstagram.com/v/t51.2885-19/357779946_228393483358268_6556474955582402286_n.jpg?stp=dst-jpg_s150x150&_nc_ht=scontent.cdninstagram.com&_nc_cat=108&_nc_ohc=cEZLGIuJP-4AX95HFfj&edm=APs17CUBAAAA&ccb=7-5&oh=00_AfALvEwoRDXJI7kwlt0VSb63fbcoLGwA1A7R8cCWJHmHKw&oe=65201908&_nc_sid=10d13b\",\"friendship_status\":null,\"follower_count\":95314,\"profile_context_facepile_users\":null,\"is_verified\":true,\"biography\":\"🇨🇦 Science-Based Bodybuilding\\\\n▫️ 3M on YouTube\\\\n▫️ Training & diet plans 💪🏼⤵️\",\"biography_with_entities\":{\"entities\":[],\"raw_text\":\"🇨🇦 Science-Based Bodybuilding\\\\n▫️ 3M on YouTube\\\\n▫️ Training & diet plans 💪🏼⤵️\"},\"account_badges\":null,\"bio_links\":[{\"url\":\"http://jeffnippard.com/\"}],\"text_post_app_is_private\":false,\"transparency_label\":null,\"full_name\":\"Jeff Nippard\",\"text_post_app_remove_mention_entrypoint\":null,\"id\":null}}},\"extensions\":{\"is_final\":true}}'"
      ]
     },
     "execution_count": 3,
     "metadata": {},
     "output_type": "execute_result"
    }
   ],
   "source": [
    "queryuser(321154855)"
   ]
  },
  {
   "cell_type": "code",
   "execution_count": null,
   "metadata": {},
   "outputs": [],
   "source": []
  }
 ],
 "metadata": {
  "kernelspec": {
   "display_name": "Python 3",
   "language": "python",
   "name": "python3"
  },
  "language_info": {
   "codemirror_mode": {
    "name": "ipython",
    "version": 3
   },
   "file_extension": ".py",
   "mimetype": "text/x-python",
   "name": "python",
   "nbconvert_exporter": "python",
   "pygments_lexer": "ipython3",
   "version": "3.9.18"
  },
  "orig_nbformat": 4
 },
 "nbformat": 4,
 "nbformat_minor": 2
}
