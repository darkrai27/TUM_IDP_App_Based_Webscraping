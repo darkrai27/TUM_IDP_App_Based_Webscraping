{
 "cells": [
  {
   "cell_type": "code",
   "execution_count": 1,
   "metadata": {},
   "outputs": [
    {
     "name": "stdout",
     "output_type": "stream",
     "text": [
      "63136232372%3AIWVoFjthk5Camo%3A17%3AAYf2Uh2Dr9lu4Z8Tn1dNZJITR-UdiCzHhmXL4r7l5Q NAcNBgrBLFm9jVqdE0lc4XeKNUyG1xVCmRwa2lXON8ILXg_egQ7AfPQ:17864329786054772:1699294697\n"
     ]
    }
   ],
   "source": [
    "from threadscraper.users import get_user_info, get_follows_info, get_followers, get_following, get_user_posts\n",
    "from threadscraper.posts import get_thread, get_post_info, get_thread_by_url, get_likers, get_reposters, download_media, download_all_media\n",
    "\n",
    "from typing import List\n",
    "from threadscraper.postSchemas import Edge, ThreadsData\n",
    "\n",
    "from threadscraper.utils import extract_captions, extract_medias\n",
    "import json\n",
    "\n",
    "import os\n",
    "from dotenv import load_dotenv\n",
    "\n",
    "load_dotenv('.env')\n",
    "DTSG = os.getenv(\"DTSG\")\n",
    "SESSION = os.getenv(\"SESSION\")\n",
    "\n",
    "print(SESSION, DTSG)"
   ]
  },
  {
   "cell_type": "code",
   "execution_count": null,
   "metadata": {},
   "outputs": [],
   "source": [
    "res = get_post_info(\"/t/Czrr520PZfh\")\n",
    "# Save the result in ../../requests/data_mining/profiles/aa.json"
   ]
  },
  {
   "cell_type": "code",
   "execution_count": null,
   "metadata": {},
   "outputs": [],
   "source": [
    "get_user_info(\"hubermanlab\")"
   ]
  },
  {
   "cell_type": "code",
   "execution_count": null,
   "metadata": {},
   "outputs": [],
   "source": [
    "posts = get_user_posts(\"hubermanlab\", \"post\",1000)\n",
    "with open('../requests/data_mining/profiles/hubermanlab_posts.json', 'w') as f:\n",
    "  json.dump(posts, f)\n",
    "\n",
    "reposts = get_user_posts(\"hubermanlab\", \"repost\", 1000)\n",
    "with open('../requests/data_mining/profiles/hubermanlab_reposts.json', 'w') as f:\n",
    "  json.dump(reposts, f)\n",
    "\n",
    "replies = get_user_posts(\"hubermanlab\", \"reply\", 1000)\n",
    "with open('../requests/data_mining/profiles/hubermanlab_replies.json', 'w') as f:\n",
    "  json.dump(replies, f)\n",
    "\n",
    "posts = get_user_posts(\"callofduty\", \"post\",1000)\n",
    "reposts = get_user_posts(\"callofduty\", \"repost\", 1000)\n",
    "replies = get_user_posts(\"callofduty\", \"reply\", 1000)\n",
    "\n",
    "with open('../requests/data_mining/profiles/callofduty_posts.json', 'w') as f:\n",
    "  json.dump(posts, f)\n",
    "with open('../requests/data_mining/profiles/callofduty_reposts.json', 'w') as f:\n",
    "  json.dump(reposts, f)\n",
    "with open('../requests/data_mining/profiles/callofduty_replies.json', 'w') as f:\n",
    "  json.dump(replies, f)\n",
    "\n"
   ]
  },
  {
   "cell_type": "code",
   "execution_count": null,
   "metadata": {},
   "outputs": [],
   "source": [
    "edges"
   ]
  },
  {
   "cell_type": "code",
   "execution_count": 10,
   "metadata": {},
   "outputs": [
    {
     "name": "stdout",
     "output_type": "stream",
     "text": [
      "179\n"
     ]
    },
    {
     "ename": "FileNotFoundError",
     "evalue": "[Errno 2] No such file or directory: '../requests/data_mining/user_info/championsleague.json'",
     "output_type": "error",
     "traceback": [
      "\u001b[0;31m---------------------------------------------------------------------------\u001b[0m",
      "\u001b[0;31mFileNotFoundError\u001b[0m                         Traceback (most recent call last)",
      "\u001b[1;32m/Users/jorge/Desktop/TUM/IDP/TUM_IDP_App_Based_Webscraping/src/test.ipynb Cell 6\u001b[0m line \u001b[0;36m7\n\u001b[1;32m      <a href='vscode-notebook-cell:/Users/jorge/Desktop/TUM/IDP/TUM_IDP_App_Based_Webscraping/src/test.ipynb#W6sZmlsZQ%3D%3D?line=4'>5</a>\u001b[0m   json\u001b[39m.\u001b[39mdump(userinfo, f)\n\u001b[1;32m      <a href='vscode-notebook-cell:/Users/jorge/Desktop/TUM/IDP/TUM_IDP_App_Based_Webscraping/src/test.ipynb#W6sZmlsZQ%3D%3D?line=5'>6</a>\u001b[0m posts \u001b[39m=\u001b[39m get_user_posts(username, \u001b[39m\"\u001b[39m\u001b[39mpost\u001b[39m\u001b[39m\"\u001b[39m, \u001b[39m1000\u001b[39m)\n\u001b[0;32m----> <a href='vscode-notebook-cell:/Users/jorge/Desktop/TUM/IDP/TUM_IDP_App_Based_Webscraping/src/test.ipynb#W6sZmlsZQ%3D%3D?line=6'>7</a>\u001b[0m \u001b[39mwith\u001b[39;00m \u001b[39mopen\u001b[39;49m(\u001b[39mf\u001b[39;49m\u001b[39m'\u001b[39;49m\u001b[39m../requests/data_mining/user_info/\u001b[39;49m\u001b[39m{\u001b[39;49;00musername\u001b[39m}\u001b[39;49;00m\u001b[39m.json\u001b[39;49m\u001b[39m'\u001b[39;49m, \u001b[39m'\u001b[39;49m\u001b[39mw\u001b[39;49m\u001b[39m'\u001b[39;49m) \u001b[39mas\u001b[39;00m f:\n\u001b[1;32m      <a href='vscode-notebook-cell:/Users/jorge/Desktop/TUM/IDP/TUM_IDP_App_Based_Webscraping/src/test.ipynb#W6sZmlsZQ%3D%3D?line=7'>8</a>\u001b[0m   json\u001b[39m.\u001b[39mdump(posts, f)\n\u001b[1;32m      <a href='vscode-notebook-cell:/Users/jorge/Desktop/TUM/IDP/TUM_IDP_App_Based_Webscraping/src/test.ipynb#W6sZmlsZQ%3D%3D?line=8'>9</a>\u001b[0m \u001b[39m# posts = json.loads(open('../requests/data_mining/profiles/battlenet_posts.json').read())\u001b[39;00m\n",
      "File \u001b[0;32m~/Desktop/TUM/IDP/TUM_IDP_App_Based_Webscraping/.venv/lib/python3.11/site-packages/IPython/core/interactiveshell.py:286\u001b[0m, in \u001b[0;36m_modified_open\u001b[0;34m(file, *args, **kwargs)\u001b[0m\n\u001b[1;32m    279\u001b[0m \u001b[39mif\u001b[39;00m file \u001b[39min\u001b[39;00m {\u001b[39m0\u001b[39m, \u001b[39m1\u001b[39m, \u001b[39m2\u001b[39m}:\n\u001b[1;32m    280\u001b[0m     \u001b[39mraise\u001b[39;00m \u001b[39mValueError\u001b[39;00m(\n\u001b[1;32m    281\u001b[0m         \u001b[39mf\u001b[39m\u001b[39m\"\u001b[39m\u001b[39mIPython won\u001b[39m\u001b[39m'\u001b[39m\u001b[39mt let you open fd=\u001b[39m\u001b[39m{\u001b[39;00mfile\u001b[39m}\u001b[39;00m\u001b[39m by default \u001b[39m\u001b[39m\"\u001b[39m\n\u001b[1;32m    282\u001b[0m         \u001b[39m\"\u001b[39m\u001b[39mas it is likely to crash IPython. If you know what you are doing, \u001b[39m\u001b[39m\"\u001b[39m\n\u001b[1;32m    283\u001b[0m         \u001b[39m\"\u001b[39m\u001b[39myou can use builtins\u001b[39m\u001b[39m'\u001b[39m\u001b[39m open.\u001b[39m\u001b[39m\"\u001b[39m\n\u001b[1;32m    284\u001b[0m     )\n\u001b[0;32m--> 286\u001b[0m \u001b[39mreturn\u001b[39;00m io_open(file, \u001b[39m*\u001b[39;49margs, \u001b[39m*\u001b[39;49m\u001b[39m*\u001b[39;49mkwargs)\n",
      "\u001b[0;31mFileNotFoundError\u001b[0m: [Errno 2] No such file or directory: '../requests/data_mining/user_info/championsleague.json'"
     ]
    }
   ],
   "source": [
    "users = [\"championsleague\", \"spotify\", \"whatsapp\", \"youtube\", \"netflix\", \"pokemon\", \"kingofthelifts\", \"the75kg\"]\n",
    "for username in users:\n",
    "  userinfo = get_user_info(username)\n",
    "  with open(f'../requests/user_info/{username}.json', 'w') as f:\n",
    "    json.dump(userinfo, f)\n",
    "  posts = get_user_posts(username, \"post\", 1000)\n",
    "  with open(f'../requests/data_mining/user_info/{username}.json', 'w') as f:\n",
    "    json.dump(posts, f)\n",
    "  # posts = json.loads(open('../requests/data_mining/profiles/battlenet_posts.json').read())\n",
    "  posts = ThreadsData.model_validate(posts)\n",
    "  edges = posts.edges\n",
    "  for edge in edges:\n",
    "    for item in edge.node.thread_items:\n",
    "      id = item.post.id.split(\"_\")[0]\n",
    "      download_all_media(int(id), f\"../requests/{username}/{id}\")\n"
   ]
  },
  {
   "cell_type": "code",
   "execution_count": null,
   "metadata": {},
   "outputs": [],
   "source": [
    "get_thread(3246025283210905313)"
   ]
  },
  {
   "cell_type": "code",
   "execution_count": null,
   "metadata": {},
   "outputs": [],
   "source": [
    "# Download all medias from a user (saved in a json file).\n",
    "posts = json.loads(open('../requests/data_mining/profiles/callofduty_posts.json').read())\n",
    "\n",
    "edges = ThreadsData.model_validate(posts).edges\n",
    "medias = extract_medias(edges)\n",
    "medias = json.loads(medias)\n",
    "\n",
    "# Iterate through the key, value pairs of the medias dictionary\n",
    "i = 0\n",
    "for key, value in medias.items():\n",
    "    # Print the key and values of the dictionary\n",
    "    download_media(value[0], f'../requests/media/callofduty/{i}')\n",
    "    if i > 7:\n",
    "        for v in value:\n",
    "            print(v) \n",
    "    i += 1\n",
    "    if i == 10:\n",
    "        break"
   ]
  },
  {
   "cell_type": "code",
   "execution_count": null,
   "metadata": {},
   "outputs": [],
   "source": [
    "download_all_media(\"/@playstationuk/post/Cz3aH9oNbKT\", \"test\")"
   ]
  },
  {
   "cell_type": "code",
   "execution_count": null,
   "metadata": {},
   "outputs": [],
   "source": [
    "get_user_info(\"xboxgamepass\")"
   ]
  },
  {
   "cell_type": "code",
   "execution_count": null,
   "metadata": {},
   "outputs": [],
   "source": [
    "get_user_posts(\"xboxgamepass\", \"post\", n=10)"
   ]
  },
  {
   "cell_type": "code",
   "execution_count": null,
   "metadata": {},
   "outputs": [],
   "source": [
    "get_reposters(3232973891940285607)"
   ]
  },
  {
   "cell_type": "code",
   "execution_count": null,
   "metadata": {},
   "outputs": [],
   "source": [
    "get_follows_info(\"playstationes\")"
   ]
  },
  {
   "cell_type": "code",
   "execution_count": null,
   "metadata": {},
   "outputs": [],
   "source": [
    "data = get_followers(\"clayster\", n=100)\n",
    "import json\n",
    "json.dumps(data)"
   ]
  },
  {
   "cell_type": "code",
   "execution_count": null,
   "metadata": {},
   "outputs": [],
   "source": [
    "usernames = []\n",
    "for user in data[\"data\"][\"followers\"][\"edges\"]:\n",
    "  username = user[\"node\"][\"username\"]\n",
    "  if username not in usernames:\n",
    "    usernames.append(username)\n",
    "\n",
    "print(len(usernames))\n",
    "print(usernames)"
   ]
  },
  {
   "cell_type": "code",
   "execution_count": null,
   "metadata": {},
   "outputs": [],
   "source": [
    "data = get_following(\"championsleague\", n=100)\n",
    "import json\n",
    "json.dumps(data)"
   ]
  },
  {
   "cell_type": "code",
   "execution_count": null,
   "metadata": {},
   "outputs": [],
   "source": [
    "usernames = []\n",
    "for user in data[\"data\"][\"following\"][\"edges\"]:\n",
    "  username = user[\"node\"][\"username\"]\n",
    "  if username not in usernames:\n",
    "    usernames.append(username)\n",
    "\n",
    "print(len(usernames))\n",
    "print(usernames)"
   ]
  },
  {
   "cell_type": "code",
   "execution_count": null,
   "metadata": {},
   "outputs": [],
   "source": [
    "medias = []\n",
    "for id in [3215036991376402961, 3217004398732036104, 3164378879532682279]:\n",
    "  post = get_thread(id, DTSG, SESSION) #\n",
    "  medias.append(extract_medias(post))\n",
    "\n",
    "medias"
   ]
  },
  {
   "cell_type": "code",
   "execution_count": null,
   "metadata": {},
   "outputs": [],
   "source": [
    "data = crawl_all(\"playstationes\", \"repost\")\n",
    "\n",
    "json_string = json.dumps(data, ensure_ascii=False)\n",
    "\n",
    "\n",
    "data = JsonPosts.model_validate_json(json_string)\n",
    "extract_captions(data.data.mediaData.edges)"
   ]
  },
  {
   "cell_type": "code",
   "execution_count": null,
   "metadata": {},
   "outputs": [],
   "source": [
    "# IP TEST\n",
    "import requests\n",
    "\n",
    "headers = {\n",
    "    'authority': 'nordvpn.com',\n",
    "    'accept': '*/*',\n",
    "    'accept-language': 'es-ES,es;q=0.9',\n",
    "    'cache-control': 'max-age=0',\n",
    "    # 'cookie': 'locale=es; nextbid=807680f8-1c49-44cd-99b5-1d05d13ee3e7; nc=1699060035463; nci=17; __cf_bm=FjfPkl3hHOM0PE254byOVz4drGTJQ1NgBCdXWEUEczU-1699025271-0-AaicTfbdo87XlFCpYaeXnZOibr8aV0LnuxFW1j3sN/eKUAjaN5dv+y3GHZzABXao69H6DC7ohdDLQLU47PacWNc=; FirstSession=source%3Dsearch.brave.com%26campaign%3D%26medium%3Dreferral%26term%3D%26content%3D%26hostname%3Dnordvpn.com%26date%3D20231103%26query%3Dnull; CurrentSession=source%3Dsearch.brave.com%26campaign%3D%26medium%3Dreferral%26term%3D%26content%3D%26hostname%3Dnordvpn.com%26date%3D20231103%26query%3Dnull; cookieconsent_status=dismiss; consent=functionality_storage:granted%2Canalytics_storage:granted%2Cad_storage:granted; font-css-en=true; _gcl_au=1.1.309610921.1699025272; _uetvid=sylrrenlkky5b7mykicz5g1zlx7u7pc1; _uetsid=sylrkiczkky5b7my5g1zlx7u7pc1renl; _chmsc=%26sylrkiczkky5b7my5g1zlx7u7pc1renl%26sylrrenlkky5b7mykicz5g1zlx7u7pc1; nv_tri=TC_49187135010510574_1699025273695; nv_trs=1699025273696_1699025273697_1_1',\n",
    "    'dnt': '1',\n",
    "    'referer': 'https://nordvpn.com/es/what-is-my-ip/',\n",
    "    'sec-ch-ua': '\"Chromium\";v=\"116\", \"Not)A;Brand\";v=\"24\", \"Brave\";v=\"116\"',\n",
    "    'sec-ch-ua-mobile': '?0',\n",
    "    'sec-ch-ua-platform': '\"macOS\"',\n",
    "    'sec-fetch-dest': 'empty',\n",
    "    'sec-fetch-mode': 'cors',\n",
    "    'sec-fetch-site': 'same-origin',\n",
    "    'sec-gpc': '1',\n",
    "    'user-agent': 'Mozilla/5.0 (Macintosh; Intel Mac OS X 10_15_7) AppleWebKit/537.36 (KHTML, like Gecko) Chrome/116.0.0.0 Safari/537.36',\n",
    "}\n",
    "\n",
    "params = {\n",
    "    'action': 'get_user_info_data',\n",
    "}\n",
    "\n",
    "response = requests.get('https://nordvpn.com/wp-admin/admin-ajax.php', params=params, headers=headers)#, proxies={\"http\": \"http://38.62.223.14:3128\",\n",
    "                                                                                                       #         \"https\": \"https://38.62.223.14:3128\"})\n",
    "print(response.text)"
   ]
  },
  {
   "cell_type": "code",
   "execution_count": null,
   "metadata": {},
   "outputs": [],
   "source": [
    "user = get_user_info(\"hideo_kojima\")\n",
    "from threadscraper.userSchemas import Json2\n",
    "Json2.model_validate_json(json.dumps(user))"
   ]
  },
  {
   "cell_type": "code",
   "execution_count": null,
   "metadata": {},
   "outputs": [],
   "source": [
    "download_media(\n",
    "  \"https://scontent.cdninstagram.com/o1/v/t16/f1/m69/GICWmACR4eYtJ7IAABk40jeU1kcSbpR1AAAF.mp4?efg=eyJxZV9ncm91cHMiOiJbXCJpZ193ZWJfZGVsaXZlcnlfdnRzX290ZlwiXSIsInZlbmNvZGVfdGFnIjoidnRzX3ZvZF91cmxnZW4uZmVlZC5jMi4xOTIwLmJhc2VsaW5lIn0&_nc_ht=scontent.cdninstagram.com&_nc_cat=110&vs=873284474530105_2370090285&_nc_vs=HBksFQIYOnBhc3N0aHJvdWdoX2V2ZXJzdG9yZS9HSUNXbUFDUjRlWXRKN0lBQUJrNDBqZVUxa2NTYnBSMUFBQUYVAALIAQAVAhg6cGFzc3Rocm91Z2hfZXZlcnN0b3JlL0dGNXBHUmhHSzlhOVNwSUZBRUhtRGNBZVBfTjhia1lMQUFBRhUCAsgBACgAGAAbAYgHdXNlX29pbAEwFQAAJua0%2BNDYl8M%2FFQIoAkMzLBdAW4AAAAAAABgWZGFzaF9iYXNlbGluZV8xMDgwcF92MREAdeoHAA%3D%3D&ccb=9-4&oh=00_AfBHXQBn5_jk_c6l8-dwMRDRxkv_lxiibJib9_wdr_JP-A&oe=655EA9CF&_nc_sid=10d13b\",\n",
    "  \"test.mp4\"\n",
    ")"
   ]
  }
 ],
 "metadata": {
  "kernelspec": {
   "display_name": "Python 3",
   "language": "python",
   "name": "python3"
  },
  "language_info": {
   "codemirror_mode": {
    "name": "ipython",
    "version": 3
   },
   "file_extension": ".py",
   "mimetype": "text/x-python",
   "name": "python",
   "nbconvert_exporter": "python",
   "pygments_lexer": "ipython3",
   "version": "3.11.3"
  },
  "orig_nbformat": 4
 },
 "nbformat": 4,
 "nbformat_minor": 2
}
