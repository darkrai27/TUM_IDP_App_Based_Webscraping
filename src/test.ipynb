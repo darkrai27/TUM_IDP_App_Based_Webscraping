{
 "cells": [
  {
   "cell_type": "code",
   "execution_count": 6,
   "metadata": {},
   "outputs": [
    {
     "name": "stdout",
     "output_type": "stream",
     "text": [
      "62663395411%3AU6Z8QXqxcqRPNz%3A27%3AAYdjtELb0pnbpRwqtQKcEquFzl5Cz-GjmlC13iFMrw NAcMUQDLrPTM8aZz4WKKz2oyY3tvcSJuo3n0b4bI2t9qQKBGWzeZz6Q:17843683126168011:1699293979\n"
     ]
    }
   ],
   "source": [
    "from threadscraper.users import get_user_info, get_follows_info, get_followers, get_following, get_user_posts\n",
    "from threadscraper.posts import get_thread, get_post_info, get_thread_by_url, get_likers, get_reposters\n",
    "\n",
    "import os\n",
    "from dotenv import load_dotenv\n",
    "\n",
    "load_dotenv('.env')\n",
    "DTSG = os.getenv(\"DTSG\")\n",
    "SESSION = os.getenv(\"SESSION\")\n",
    "\n",
    "print(SESSION, DTSG)"
   ]
  },
  {
   "cell_type": "code",
   "execution_count": 7,
   "metadata": {},
   "outputs": [],
   "source": [
    "# from threadscraper.postSchemas import JsonPosts\n",
    "from threadscraper.utils import extract_captions, extract_medias\n",
    "import json"
   ]
  },
  {
   "cell_type": "code",
   "execution_count": null,
   "metadata": {},
   "outputs": [],
   "source": [
    "get_post_info(\"/t/Czrr520PZfh\")"
   ]
  },
  {
   "cell_type": "code",
   "execution_count": null,
   "metadata": {},
   "outputs": [],
   "source": [
    "posts = get_user_posts(\"xbox\", \"post\",1000)\n",
    "reposts = get_user_posts(\"xbox\", \"repost\", 1000)\n",
    "replies = get_user_posts(\"xbox\", \"reply\", 1000)\n",
    "\n",
    "posts2 = get_user_posts(\"zuck\", \"post\",1000)\n",
    "reposts2 = get_user_posts(\"zuck\", \"repost\", 1000)\n",
    "replies2 = get_user_posts(\"zuck\", \"reply\", 1000)"
   ]
  },
  {
   "cell_type": "code",
   "execution_count": null,
   "metadata": {},
   "outputs": [],
   "source": [
    "get_thread_by_url(\"/t/Czrr520PZfh\")"
   ]
  },
  {
   "cell_type": "code",
   "execution_count": null,
   "metadata": {},
   "outputs": [],
   "source": [
    "get_user_info(\"xboxgamepass\")"
   ]
  },
  {
   "cell_type": "code",
   "execution_count": null,
   "metadata": {},
   "outputs": [],
   "source": [
    "get_user_posts(\"xboxgamepass\", \"post\", n=10)"
   ]
  },
  {
   "cell_type": "code",
   "execution_count": 9,
   "metadata": {},
   "outputs": [
    {
     "name": "stdout",
     "output_type": "stream",
     "text": [
      "{\"data\":{\"feedback_hub_tab_items\":{\"edges\":[],\"page_info\":{\"end_cursor\":null,\"has_next_page\":false}}},\"extensions\":{\"is_final\":true}}\n",
      "0\n",
      "{'likers': []}\n"
     ]
    },
    {
     "data": {
      "text/plain": [
       "{'likers': []}"
      ]
     },
     "execution_count": 9,
     "metadata": {},
     "output_type": "execute_result"
    }
   ],
   "source": [
    "get_reposters(3232973891940285607)"
   ]
  },
  {
   "cell_type": "code",
   "execution_count": null,
   "metadata": {},
   "outputs": [],
   "source": [
    "get_follows_info(\"playstationes\")"
   ]
  },
  {
   "cell_type": "code",
   "execution_count": null,
   "metadata": {},
   "outputs": [],
   "source": [
    "data = get_followers(\"clayster\", n=100)\n",
    "import json\n",
    "json.dumps(data)"
   ]
  },
  {
   "cell_type": "code",
   "execution_count": null,
   "metadata": {},
   "outputs": [],
   "source": [
    "usernames = []\n",
    "for user in data[\"data\"][\"followers\"][\"edges\"]:\n",
    "  username = user[\"node\"][\"username\"]\n",
    "  if username not in usernames:\n",
    "    usernames.append(username)\n",
    "\n",
    "print(len(usernames))\n",
    "print(usernames)"
   ]
  },
  {
   "cell_type": "code",
   "execution_count": null,
   "metadata": {},
   "outputs": [],
   "source": [
    "data = get_following(\"championsleague\", n=100)\n",
    "import json\n",
    "json.dumps(data)"
   ]
  },
  {
   "cell_type": "code",
   "execution_count": null,
   "metadata": {},
   "outputs": [],
   "source": [
    "usernames = []\n",
    "for user in data[\"data\"][\"following\"][\"edges\"]:\n",
    "  username = user[\"node\"][\"username\"]\n",
    "  if username not in usernames:\n",
    "    usernames.append(username)\n",
    "\n",
    "print(len(usernames))\n",
    "print(usernames)"
   ]
  },
  {
   "cell_type": "code",
   "execution_count": null,
   "metadata": {},
   "outputs": [],
   "source": [
    "medias = []\n",
    "for id in [3215036991376402961, 3217004398732036104, 3164378879532682279]:\n",
    "  post = get_thread(id, DTSG, SESSION) #\n",
    "  medias.append(extract_medias(post))\n",
    "\n",
    "medias"
   ]
  },
  {
   "cell_type": "code",
   "execution_count": null,
   "metadata": {},
   "outputs": [],
   "source": [
    "data = crawl_all(\"playstationes\", \"repost\")\n",
    "\n",
    "json_string = json.dumps(data, ensure_ascii=False)\n",
    "\n",
    "\n",
    "data = JsonPosts.model_validate_json(json_string)\n",
    "extract_captions(data.data.mediaData.edges)"
   ]
  },
  {
   "cell_type": "code",
   "execution_count": null,
   "metadata": {},
   "outputs": [],
   "source": [
    "# IP TEST\n",
    "import requests\n",
    "\n",
    "headers = {\n",
    "    'authority': 'nordvpn.com',\n",
    "    'accept': '*/*',\n",
    "    'accept-language': 'es-ES,es;q=0.9',\n",
    "    'cache-control': 'max-age=0',\n",
    "    # 'cookie': 'locale=es; nextbid=807680f8-1c49-44cd-99b5-1d05d13ee3e7; nc=1699060035463; nci=17; __cf_bm=FjfPkl3hHOM0PE254byOVz4drGTJQ1NgBCdXWEUEczU-1699025271-0-AaicTfbdo87XlFCpYaeXnZOibr8aV0LnuxFW1j3sN/eKUAjaN5dv+y3GHZzABXao69H6DC7ohdDLQLU47PacWNc=; FirstSession=source%3Dsearch.brave.com%26campaign%3D%26medium%3Dreferral%26term%3D%26content%3D%26hostname%3Dnordvpn.com%26date%3D20231103%26query%3Dnull; CurrentSession=source%3Dsearch.brave.com%26campaign%3D%26medium%3Dreferral%26term%3D%26content%3D%26hostname%3Dnordvpn.com%26date%3D20231103%26query%3Dnull; cookieconsent_status=dismiss; consent=functionality_storage:granted%2Canalytics_storage:granted%2Cad_storage:granted; font-css-en=true; _gcl_au=1.1.309610921.1699025272; _uetvid=sylrrenlkky5b7mykicz5g1zlx7u7pc1; _uetsid=sylrkiczkky5b7my5g1zlx7u7pc1renl; _chmsc=%26sylrkiczkky5b7my5g1zlx7u7pc1renl%26sylrrenlkky5b7mykicz5g1zlx7u7pc1; nv_tri=TC_49187135010510574_1699025273695; nv_trs=1699025273696_1699025273697_1_1',\n",
    "    'dnt': '1',\n",
    "    'referer': 'https://nordvpn.com/es/what-is-my-ip/',\n",
    "    'sec-ch-ua': '\"Chromium\";v=\"116\", \"Not)A;Brand\";v=\"24\", \"Brave\";v=\"116\"',\n",
    "    'sec-ch-ua-mobile': '?0',\n",
    "    'sec-ch-ua-platform': '\"macOS\"',\n",
    "    'sec-fetch-dest': 'empty',\n",
    "    'sec-fetch-mode': 'cors',\n",
    "    'sec-fetch-site': 'same-origin',\n",
    "    'sec-gpc': '1',\n",
    "    'user-agent': 'Mozilla/5.0 (Macintosh; Intel Mac OS X 10_15_7) AppleWebKit/537.36 (KHTML, like Gecko) Chrome/116.0.0.0 Safari/537.36',\n",
    "}\n",
    "\n",
    "params = {\n",
    "    'action': 'get_user_info_data',\n",
    "}\n",
    "\n",
    "response = requests.get('https://nordvpn.com/wp-admin/admin-ajax.php', params=params, headers=headers)#, proxies={\"http\": \"http://38.62.223.14:3128\",\n",
    "                                                                                                       #         \"https\": \"https://38.62.223.14:3128\"})\n",
    "print(response.text)"
   ]
  },
  {
   "cell_type": "code",
   "execution_count": null,
   "metadata": {},
   "outputs": [],
   "source": [
    "user = get_user_info(\"hideo_kojima\")\n",
    "from threadscraper.userSchemas import Json2\n",
    "Json2.model_validate_json(json.dumps(user))"
   ]
  },
  {
   "cell_type": "code",
   "execution_count": null,
   "metadata": {},
   "outputs": [],
   "source": []
  }
 ],
 "metadata": {
  "kernelspec": {
   "display_name": "Python 3",
   "language": "python",
   "name": "python3"
  },
  "language_info": {
   "codemirror_mode": {
    "name": "ipython",
    "version": 3
   },
   "file_extension": ".py",
   "mimetype": "text/x-python",
   "name": "python",
   "nbconvert_exporter": "python",
   "pygments_lexer": "ipython3",
   "version": "3.11.3"
  },
  "orig_nbformat": 4
 },
 "nbformat": 4,
 "nbformat_minor": 2
}
