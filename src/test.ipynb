{
 "cells": [
  {
   "cell_type": "code",
   "execution_count": 1,
   "metadata": {},
   "outputs": [],
   "source": [
    "from tum_idp_appscraping.queryuser import queryuser, get_posts, get_posts, scrap_all_posts, get_follows_info\n",
    "\n",
    "DTSG = 'NAcPfyyVtvodJpibhonbzHV-V9-VsoAMf0T6yakObDfuytdSHbKwtkA:17864642926059691:1697120701'\n",
    "SESSION = '62293686223%3A9R31sMvBbhcYFN%3A16%3AAYfm1lGuGztsbPZD8S47hz9N_sLhEO3uq39_gcamog'"
   ]
  },
  {
   "cell_type": "code",
   "execution_count": null,
   "metadata": {},
   "outputs": [],
   "source": [
    "get_posts(321154855, DTSG, SESSION)"
   ]
  },
  {
   "cell_type": "code",
   "execution_count": null,
   "metadata": {},
   "outputs": [],
   "source": [
    "get_posts(9766379)"
   ]
  },
  {
   "cell_type": "code",
   "execution_count": null,
   "metadata": {},
   "outputs": [],
   "source": [
    "scrap_all_posts(9766379, DTSG, SESSION)"
   ]
  },
  {
   "cell_type": "code",
   "execution_count": 5,
   "metadata": {},
   "outputs": [
    {
     "data": {
      "text/plain": [
       "{'data': {'user': {'username': 'playstationes',\n",
       "   'pk': '627248568',\n",
       "   'id': '627248568'},\n",
       "  'counts': {'total_followers_count': 53971,\n",
       "   'total_following_count': 111,\n",
       "   'total_pending_follow_count': None}},\n",
       " 'extensions': {'is_final': True}}"
      ]
     },
     "execution_count": 5,
     "metadata": {},
     "output_type": "execute_result"
    }
   ],
   "source": [
    "get_follows_info(\"playstationes\", DTSG, SESSION)"
   ]
  },
  {
   "cell_type": "code",
   "execution_count": null,
   "metadata": {},
   "outputs": [],
   "source": []
  }
 ],
 "metadata": {
  "kernelspec": {
   "display_name": "Python 3",
   "language": "python",
   "name": "python3"
  },
  "language_info": {
   "codemirror_mode": {
    "name": "ipython",
    "version": 3
   },
   "file_extension": ".py",
   "mimetype": "text/x-python",
   "name": "python",
   "nbconvert_exporter": "python",
   "pygments_lexer": "ipython3",
   "version": "3.9.18"
  },
  "orig_nbformat": 4
 },
 "nbformat": 4,
 "nbformat_minor": 2
}
